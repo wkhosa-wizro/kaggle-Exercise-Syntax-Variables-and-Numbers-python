{
  "cells": [
    {
      "metadata": {
        "_uuid": "253570b152ba89f59ba785109638f5d60147379b"
      },
      "cell_type": "markdown",
      "source": "**[Python Course Home Page](https://www.kaggle.com/learn/python)**\n\n---\n"
    },
    {
      "metadata": {
        "_uuid": "1f2340e603167495cc2bc7696009da07d7071e6a"
      },
      "cell_type": "markdown",
      "source": "These exercises accompany the tutorial on [functions and getting help](https://www.kaggle.com/colinmorris/functions-and-getting-help).\n\nAs before, don't forget to run the setup code below before jumping into question 1."
    },
    {
      "metadata": {
        "_kg_hide-input": true,
        "_kg_hide-output": true,
        "_uuid": "952e0407978bc20bdda21a566e257dde863641e4",
        "trusted": true
      },
      "cell_type": "code",
      "source": "# SETUP. You don't need to worry for now about what this code does or how it works. If you're ever curious about the \n# code behind these exercises, it's available under an open source license here: https://github.com/Kaggle/learntools/\nfrom learntools.core import binder; binder.bind(globals())\nfrom learntools.python.ex2 import *\nprint('Setup complete.')",
      "execution_count": 1,
      "outputs": [
        {
          "output_type": "stream",
          "text": "Setup complete.\n",
          "name": "stdout"
        }
      ]
    },
    {
      "metadata": {
        "_uuid": "77856f9c00cc9b1274b9431e6f3b1c0ca7425e9a"
      },
      "cell_type": "markdown",
      "source": "\n# Exercises"
    },
    {
      "metadata": {
        "_uuid": "9e62fbae00cc41c48868ba4c50ae82257dd6b0e8"
      },
      "cell_type": "markdown",
      "source": "## 1.\n\nComplete the body of the following function according to its docstring.\n\nHINT: Python has a builtin function `round`"
    },
    {
      "metadata": {
        "trusted": true,
        "_uuid": "66c51970c91ec6a6947725ac1de45be0cd550174"
      },
      "cell_type": "code",
      "source": "help(round)",
      "execution_count": 2,
      "outputs": [
        {
          "output_type": "stream",
          "text": "Help on built-in function round in module builtins:\n\nround(...)\n    round(number[, ndigits]) -> number\n    \n    Round a number to a given precision in decimal digits (default 0 digits).\n    This returns an int when called with one argument, otherwise the\n    same type as the number. ndigits may be negative.\n\n",
          "name": "stdout"
        }
      ]
    },
    {
      "metadata": {
        "_uuid": "fe0a69b95b94f14ad6e00d9bc8484462257a2634",
        "trusted": true
      },
      "cell_type": "code",
      "source": "def round_to_two_places(num):\n    \"\"\"Return the given number rounded to two decimal places. \n    \n    >>> round_to_two_places(3.14159)\n    3.14\n    \"\"\"\n    # Replace this body with your own code.\n    # (\"pass\" is a keyword that does literally nothing. We used it as a placeholder\n    # because after we begin a code block, Python requires at least one line of code)\n    pass\n    return  round(num,2)\n\nq1.check()",
      "execution_count": 4,
      "outputs": [
        {
          "output_type": "display_data",
          "data": {
            "text/plain": "<IPython.core.display.Javascript object>",
            "application/javascript": "parent.postMessage({\"jupyterEvent\": \"custom.exercise_interaction\", \"data\": {\"outcomeType\": 1, \"valueTowardsCompletion\": 0.5, \"interactionType\": 1, \"learnTutorialId\": 104, \"questionId\": \"1_RoundFunctionProblem\", \"learnToolsVersion\": \"0.2.11\", \"failureMessage\": \"\", \"exceptionClass\": \"\", \"trace\": \"\"}}, \"*\")"
          },
          "metadata": {}
        },
        {
          "output_type": "display_data",
          "data": {
            "text/plain": "Correct",
            "text/markdown": "<span style=\"color:#33cc33\">Correct</span>"
          },
          "metadata": {}
        }
      ]
    },
    {
      "metadata": {
        "_uuid": "5038fc03f10d90306e8079ca16382f1cb3f70a6f",
        "trusted": false
      },
      "cell_type": "code",
      "source": "# Uncomment the following for a hint\n#q1.hint()\n# Or uncomment the following to peek at the solution\n#q1.solution()",
      "execution_count": null,
      "outputs": []
    },
    {
      "metadata": {
        "_uuid": "161f4f855c6df62a8e29f49d2c4579dfdc493fed"
      },
      "cell_type": "markdown",
      "source": "## 2.\nThe help for `round` says that `ndigits` (the second argument) may be negative.\nWhat do you think will happen when it is? Try some examples in the following cell?\n\n\nCan you think of a case where this would be useful?"
    },
    {
      "metadata": {
        "_uuid": "7dbfb368687926c9aaae521d4df10465abf6c94a",
        "trusted": false
      },
      "cell_type": "code",
      "source": "# Put your test code here",
      "execution_count": null,
      "outputs": []
    },
    {
      "metadata": {
        "_uuid": "1541a72d45bd59cfa549c09f77167a42d03606ae",
        "trusted": false
      },
      "cell_type": "code",
      "source": "#q2.solution()",
      "execution_count": null,
      "outputs": []
    },
    {
      "metadata": {
        "_uuid": "b4e94a154add86b009aaf0cb5312dfbf58276578"
      },
      "cell_type": "markdown",
      "source": "## 3.\n\nIn a previous programming problem, the candy-sharing friends Alice, Bob and Carol tried to split candies evenly. For the sake of their friendship, any candies left over would be smashed. For example, if they collectively bring home 91 candies, they'll take 30 each and smash 1.\n\nBelow is a simple function that will calculate the number of candies to smash for *any* number of total candies.\n\nModify it so that it optionally takes a second argument representing the number of friends the candies are being split between. If no second argument is provided, it should assume 3 friends, as before.\n\nUpdate the docstring to reflect this new behaviour."
    },
    {
      "metadata": {
        "trusted": true,
        "_uuid": "f412deedcd11f415984e5cc4b7eb3732e446479c"
      },
      "cell_type": "code",
      "source": "91 % 4",
      "execution_count": 7,
      "outputs": [
        {
          "output_type": "execute_result",
          "execution_count": 7,
          "data": {
            "text/plain": "3"
          },
          "metadata": {}
        }
      ]
    },
    {
      "metadata": {
        "_uuid": "22c9bec248fb7685e35624ec77569f5b2845867b",
        "trusted": true
      },
      "cell_type": "code",
      "source": "def to_smash(total_candies, n=3):\n    \"\"\"Return the number of leftover candies that must be smashed after distributing\n    the given number of candies evenly between n number of friends. The default value\n    of n is 3\n    \n    >>> to_smash(91, 4)\n    3\n    \"\"\"\n    return total_candies % n\n\nq3.check()",
      "execution_count": 8,
      "outputs": [
        {
          "output_type": "display_data",
          "data": {
            "text/plain": "<IPython.core.display.Javascript object>",
            "application/javascript": "parent.postMessage({\"jupyterEvent\": \"custom.exercise_interaction\", \"data\": {\"outcomeType\": 1, \"valueTowardsCompletion\": 0.5, \"interactionType\": 1, \"learnTutorialId\": 104, \"questionId\": \"3_CandySmashingFunctionProblem\", \"learnToolsVersion\": \"0.2.11\", \"failureMessage\": \"\", \"exceptionClass\": \"\", \"trace\": \"\"}}, \"*\")"
          },
          "metadata": {}
        },
        {
          "output_type": "display_data",
          "data": {
            "text/plain": "Correct",
            "text/markdown": "<span style=\"color:#33cc33\">Correct</span>"
          },
          "metadata": {}
        }
      ]
    },
    {
      "metadata": {
        "_uuid": "fda23eb5cc43878b8ab765038c8bd5ea8e40ea19",
        "trusted": false
      },
      "cell_type": "code",
      "source": "#q3.hint()",
      "execution_count": null,
      "outputs": []
    },
    {
      "metadata": {
        "_uuid": "490e1bea5ebab868b5dfc6f1161158e411485236",
        "trusted": false
      },
      "cell_type": "code",
      "source": "#q3.solution()",
      "execution_count": null,
      "outputs": []
    },
    {
      "metadata": {
        "_uuid": "1d028c71649671b6cf46550ca63ec8b36c3dafe8"
      },
      "cell_type": "markdown",
      "source": "## 4.\n\nIt may not be fun, but reading and understanding error messages will be an important part of your Python career.\n\nEach code cell below contains some commented-out buggy code. For each cell...\n\n1. Read the code and predict what you think will happen when it's run.\n2. Then uncomment the code and run it to see what happens. (**Tip**: In the kernel editor, you can highlight several lines and press `ctrl`+`/` to toggle commenting.)\n3. Fix the code (so that it accomplishes its intended purpose without throwing an exception)\n\n<!-- TODO: should this be autochecked? Delta is probably pretty small. -->"
    },
    {
      "metadata": {
        "_uuid": "ed6a7e90b579e22bfb51c8603f97de3cc344cdbd",
        "trusted": true
      },
      "cell_type": "code",
      "source": "round_to_two_places(9.9999)",
      "execution_count": 11,
      "outputs": [
        {
          "output_type": "execute_result",
          "execution_count": 11,
          "data": {
            "text/plain": "10.0"
          },
          "metadata": {}
        }
      ]
    },
    {
      "metadata": {
        "trusted": true,
        "_uuid": "f5d91308c1dc406283004dca417791d78408c7a8"
      },
      "cell_type": "code",
      "source": "help(min)",
      "execution_count": 15,
      "outputs": [
        {
          "output_type": "stream",
          "text": "Help on built-in function min in module builtins:\n\nmin(...)\n    min(iterable, *[, default=obj, key=func]) -> value\n    min(arg1, arg2, *args, *[, key=func]) -> value\n    \n    With a single iterable argument, return its smallest item. The\n    default keyword-only argument specifies an object to return if\n    the provided iterable is empty.\n    With two or more arguments, return the smallest argument.\n\n",
          "name": "stdout"
        }
      ]
    },
    {
      "metadata": {
        "_uuid": "1c61f916fa7f70bf66b92c79eb9f24f7ba2eef6d",
        "trusted": true
      },
      "cell_type": "code",
      "source": "x = -10\ny = 5\n# Which of the two variables above has the smallest absolute value?\nsmallest_abs = min(x, y, key=abs)",
      "execution_count": 18,
      "outputs": []
    },
    {
      "metadata": {
        "_uuid": "07e79388a6a916d2812681cc862c8b2ed58e1c62",
        "trusted": true
      },
      "cell_type": "code",
      "source": "def f(x):\n    y = abs(x)\n    return y\n\nprint(f(5))",
      "execution_count": 20,
      "outputs": [
        {
          "output_type": "stream",
          "text": "5\n",
          "name": "stdout"
        }
      ]
    },
    {
      "metadata": {
        "_uuid": "b65fa0d92ccb253e62ec64cf5850a53daeaa5f4a"
      },
      "cell_type": "markdown",
      "source": "## 5. <span title=\"A bit spicy\" style=\"color: darkgreen \">🌶️</span>\n\nFor this question, we'll be using two functions imported from Python's `time` module.\n\nThe [time](https://docs.python.org/3/library/time.html#time.time) function returns the number of seconds that have passed since the Epoch (aka [Unix time](https://en.wikipedia.org/wiki/Unix_time)). \n\n<!-- We've provided a function called `seconds_since_epoch` which returns the number of seconds that have passed since the Epoch (aka [Unix time](https://en.wikipedia.org/wiki/Unix_time)). -->\n\nTry it out below. Each time you run it, you should get a slightly larger number."
    },
    {
      "metadata": {
        "_uuid": "d8ee563b5e1fdfa484b75fe0efed45077dd5c81c",
        "trusted": true
      },
      "cell_type": "code",
      "source": "# Importing the function 'time' from the module of the same name. \n# (We'll discuss imports in more depth later)\nfrom time import time\nt = time()\nprint(t, \"seconds since the Epoch\")",
      "execution_count": 21,
      "outputs": [
        {
          "output_type": "stream",
          "text": "1548123448.98404 seconds since the Epoch\n",
          "name": "stdout"
        }
      ]
    },
    {
      "metadata": {
        "_uuid": "41df1515ad75832578554940df1c34bc8271721f"
      },
      "cell_type": "markdown",
      "source": "We'll also be using a function called [sleep](https://docs.python.org/3/library/time.html#time.sleep), which makes us wait some number of seconds while it does nothing particular. (Sounds useful, right?)\n\nYou can see it in action by running the cell below:"
    },
    {
      "metadata": {
        "_uuid": "806717fe5d8507013f992a60b93c984cceb6afa7",
        "trusted": true
      },
      "cell_type": "code",
      "source": "from time import sleep\nduration = 5\nprint(\"Getting sleepy. See you in\", duration, \"seconds\")\nsleep(duration)\nprint(\"I'm back. What did I miss?\")",
      "execution_count": 22,
      "outputs": [
        {
          "output_type": "stream",
          "text": "Getting sleepy. See you in 5 seconds\nI'm back. What did I miss?\n",
          "name": "stdout"
        }
      ]
    },
    {
      "metadata": {
        "_uuid": "304f6db4029669f71b0cc0c66df1a886b7696443"
      },
      "cell_type": "markdown",
      "source": "With the help of these functions, complete the function `time_call` below according to its docstring.\n\n<!-- (The sleep function will be useful for testing here since we have a pretty good idea of what something like `time_call(sleep, 1)` should return.) -->"
    },
    {
      "metadata": {
        "_uuid": "5e552c2b70aac3243de09c52185c7230819be726",
        "trusted": true
      },
      "cell_type": "code",
      "source": "def time_call(fn, arg):\n    \"\"\"Return the amount of time the given function takes (in seconds) when called with the given argument.\n    \"\"\"\n    pass\n    time_1 = time()\n    fn(arg)\n    return (time() - time_1)\n\n# Verifying the time_call function\nprint(time_call(sleep, 4))",
      "execution_count": 30,
      "outputs": [
        {
          "output_type": "stream",
          "text": "4.004106044769287\n",
          "name": "stdout"
        }
      ]
    },
    {
      "metadata": {
        "_uuid": "e23f8426d460cf0600ee3f2961092e9e8d7b3c3b"
      },
      "cell_type": "markdown",
      "source": "How would you verify that `time_call` is working correctly? Think about it, and then check the answer with the `solution` function below`."
    },
    {
      "metadata": {
        "_uuid": "50c9e9af5ae6e8caa4ee4fef4ad2a172f419b02f",
        "trusted": false
      },
      "cell_type": "code",
      "source": "#q5.hint()\n#q5.solution()",
      "execution_count": null,
      "outputs": []
    },
    {
      "metadata": {
        "_uuid": "dcad03e2284ddb9e14dbd110bf8781d912cbae2c"
      },
      "cell_type": "markdown",
      "source": "## 6. <span title=\"A bit spicy\" style=\"color: darkgreen \">🌶️</span>\n\n*Note: this question depends on a working solution to the previous question.*\n\nComplete the function below according to its docstring."
    },
    {
      "metadata": {
        "_uuid": "3ae316ebcce938c0e1fb70c3b32b2de8a900592a",
        "trusted": true
      },
      "cell_type": "code",
      "source": "def slowest_call(fn, arg1, arg2, arg3):\n    \"\"\"Return the amount of time taken by the slowest of the following function\n    calls: fn(arg1), fn(arg2), fn(arg3)\n    \"\"\"\n    pass\n    time_1 = time()\n    fn(arg1)\n    time_2 = time()\n    fn(arg2)\n    time_3 = time()\n    fn(arg3)\n    time_4 = time()\n    return min((time_2 - time_1), (time_3 - time_2), (time_4 - time_3),)\n#Verifying\n\nprint(slowest_call(sleep, 3,2,4))",
      "execution_count": 32,
      "outputs": [
        {
          "output_type": "stream",
          "text": "2.0020992755889893\n",
          "name": "stdout"
        }
      ]
    },
    {
      "metadata": {
        "_uuid": "91805acdf319d7d5f0d083b1e55bf03e54dafc97",
        "trusted": true
      },
      "cell_type": "code",
      "source": "q6.hint()",
      "execution_count": 33,
      "outputs": [
        {
          "output_type": "display_data",
          "data": {
            "text/plain": "<IPython.core.display.Javascript object>",
            "application/javascript": "parent.postMessage({\"jupyterEvent\": \"custom.exercise_interaction\", \"data\": {\"interactionType\": 2, \"learnTutorialId\": 104, \"questionId\": \"6_SlowestCallProblem\", \"learnToolsVersion\": \"0.2.11\", \"valueTowardsCompletion\": 0.0, \"failureMessage\": \"\", \"exceptionClass\": \"\", \"trace\": \"\", \"outcomeType\": 4}}, \"*\")"
          },
          "metadata": {}
        },
        {
          "output_type": "display_data",
          "data": {
            "text/plain": "Hint: You'll want to call the function you wrote in the previous question (`time_call`) in the body of `slowest_call`.",
            "text/markdown": "<span style=\"color:#3366cc\">Hint:</span> You'll want to call the function you wrote in the previous question (`time_call`) in the body of `slowest_call`."
          },
          "metadata": {}
        }
      ]
    },
    {
      "metadata": {
        "_uuid": "e4eea1335aa4ed480fca46753f2fbf497b38b1d8",
        "trusted": true
      },
      "cell_type": "code",
      "source": "q6.solution()",
      "execution_count": 34,
      "outputs": [
        {
          "output_type": "display_data",
          "data": {
            "text/plain": "<IPython.core.display.Javascript object>",
            "application/javascript": "parent.postMessage({\"jupyterEvent\": \"custom.exercise_interaction\", \"data\": {\"interactionType\": 3, \"learnTutorialId\": 104, \"questionId\": \"6_SlowestCallProblem\", \"learnToolsVersion\": \"0.2.11\", \"valueTowardsCompletion\": 0.0, \"failureMessage\": \"\", \"exceptionClass\": \"\", \"trace\": \"\", \"outcomeType\": 4}}, \"*\")"
          },
          "metadata": {}
        },
        {
          "output_type": "display_data",
          "data": {
            "text/plain": "Solution: \n```python\nreturn max(time_call(fn, arg1), time_call(fn, arg2), time_call(fn, arg3))\n```\n\nYou *could* copy-paste the code you wrote for `time_call` three times with some slight variable changes. But that's highly not recommended. It's more typing, and if you later noticed a bug in `time_call`, you'd have to fix it in 4 places. [Laziness is one of the three great virtues of a programmer.](http://threevirtues.com/)",
            "text/markdown": "<span style=\"color:#33cc99\">Solution:</span> \n```python\nreturn max(time_call(fn, arg1), time_call(fn, arg2), time_call(fn, arg3))\n```\n\nYou *could* copy-paste the code you wrote for `time_call` three times with some slight variable changes. But that's highly not recommended. It's more typing, and if you later noticed a bug in `time_call`, you'd have to fix it in 4 places. [Laziness is one of the three great virtues of a programmer.](http://threevirtues.com/)\n"
          },
          "metadata": {}
        }
      ]
    },
    {
      "metadata": {
        "_uuid": "429cf020b9fd9a912656297942cc340a40b616b1"
      },
      "cell_type": "markdown",
      "source": "# Keep Going\n\nYou are ready for **[booleans and conditionals](https://www.kaggle.com/colinmorris/booleans-and-conditionals).**\n"
    },
    {
      "metadata": {
        "_uuid": "d191d219082853d1564614737ba7320ea67250a5"
      },
      "cell_type": "markdown",
      "source": "---\n**[Python Course Home Page](https://www.kaggle.com/learn/python)**\n\n"
    }
  ],
  "metadata": {
    "kernelspec": {
      "display_name": "Python 3",
      "language": "python",
      "name": "python3"
    },
    "language_info": {
      "name": "python",
      "version": "3.6.6",
      "mimetype": "text/x-python",
      "codemirror_mode": {
        "name": "ipython",
        "version": 3
      },
      "pygments_lexer": "ipython3",
      "nbconvert_exporter": "python",
      "file_extension": ".py"
    },
    "learntools_metadata": {
      "lesson_index": 1,
      "type": "exercise"
    }
  },
  "nbformat": 4,
  "nbformat_minor": 1
}
